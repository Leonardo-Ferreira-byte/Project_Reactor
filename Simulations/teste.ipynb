{
 "cells": [
  {
   "cell_type": "code",
   "execution_count": 4,
   "metadata": {},
   "outputs": [],
   "source": [
    "from correlations import solubility"
   ]
  },
  {
   "cell_type": "code",
   "execution_count": 5,
   "metadata": {},
   "outputs": [
    {
     "name": "stdout",
     "output_type": "stream",
     "text": [
      "Help on function get_viscosity in module correlations.solubility:\n",
      "\n",
      "get_viscosity(T, API)\n",
      "    Function to get the viscosity of oil (Glaso, 1980).\n",
      "\n",
      "    Parameters\n",
      "    ----------\n",
      "    API: float or int\n",
      "          API gravity of oil.\n",
      "\n",
      "    T: int or float\n",
      "          Temperature in K.\n",
      "\n",
      "    Returns\n",
      "    -------\n",
      "    mi_L: float\n",
      "          Viscosity of oil sulfite in g/(cm*s).\n",
      "\n"
     ]
    }
   ],
   "source": [
    "help(solubility.get_viscosity)"
   ]
  }
 ],
 "metadata": {
  "kernelspec": {
   "display_name": "venv",
   "language": "python",
   "name": "python3"
  },
  "language_info": {
   "codemirror_mode": {
    "name": "ipython",
    "version": 3
   },
   "file_extension": ".py",
   "mimetype": "text/x-python",
   "name": "python",
   "nbconvert_exporter": "python",
   "pygments_lexer": "ipython3",
   "version": "3.12.5"
  }
 },
 "nbformat": 4,
 "nbformat_minor": 2
}
