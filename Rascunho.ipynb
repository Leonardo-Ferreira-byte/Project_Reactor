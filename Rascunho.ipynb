{
 "cells": [
  {
   "cell_type": "code",
   "execution_count": null,
   "metadata": {},
   "outputs": [],
   "source": [
    "class Reactor():\n",
    "\n",
    "    def __init__(self, z, LHSV, fi, catalyst_diameter, dp, rhob, T, P):\n",
    "\n",
    "        self.z = z\n",
    "        self.LHSV = LHSV\n",
    "        self.fi = fi\n",
    "        self.catalyst_diameter = catalyst_diameter\n",
    "        self.dp = dp\n",
    "        self.rhob = rhob\n",
    "        self.T = T\n",
    "        self.P = P\n",
    "        self.Ac = np.pi * catalyst_diameter**2 / 4\n",
    "        self.V_reactor = Ac * z\n",
    "        self.uL = self.LHSV/3600 * self.V_reactor / self.Ac\n",
    "        self.ug = uL*(1e5/P)*(T/273.15)*fi\n",
    "        self.GL = self.uL * oil_density(rho0,P, T)\n",
    "\n",
    "\n",
    "    def _transport_eq(self, r, y, dy, d2y, yb, *args): #partial equations\n",
    "        return d2y - ft_reactants(r, y, *args)\n",
    "    \n",
    "    def _bc_eq(self, r, y, dy, d2y, yb, *args):\n",
    "        return y - yb\n",
    "    "
   ]
  }
 ],
 "metadata": {
  "language_info": {
   "name": "python"
  }
 },
 "nbformat": 4,
 "nbformat_minor": 2
}
